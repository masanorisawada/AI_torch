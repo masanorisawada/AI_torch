{
 "cells": [
  {
   "cell_type": "markdown",
   "metadata": {},
   "source": [
    "### ライブラリをインポート"
   ]
  },
  {
   "cell_type": "code",
   "execution_count": 11,
   "metadata": {},
   "outputs": [],
   "source": [
    "import torch\n",
    "import torch.nn as nn\n",
    "import torch.optim as optim\n",
    "import matplotlib.pyplot as plt\n",
    "import numpy as np\n",
    "%matplotlib inline"
   ]
  },
  {
   "cell_type": "markdown",
   "metadata": {},
   "source": [
    " ### ランダムパターンを変更"
   ]
  },
  {
   "cell_type": "code",
   "execution_count": 12,
   "metadata": {},
   "outputs": [
    {
     "data": {
      "text/plain": [
       "<torch._C.Generator at 0x1081c74b0>"
      ]
     },
     "execution_count": 12,
     "metadata": {},
     "output_type": "execute_result"
    }
   ],
   "source": [
    "torch.manual_seed(123) "
   ]
  },
  {
   "cell_type": "markdown",
   "metadata": {},
   "source": [
    "### データセットxを0~1の500等分に変更"
   ]
  },
  {
   "cell_type": "code",
   "execution_count": 13,
   "metadata": {},
   "outputs": [],
   "source": [
    "\n",
    "a = 2 # とりあえずの重みを設定\n",
    "b = 1 # とりあえずの切片を設定\n",
    "\n",
    "tensor_x = torch.linspace(0, 1, 500)\n",
    "\n",
    "x = tensor_x.view(500, 1) # （1）なぜ 100 x 1のテンソルに変換するのか　100とは何か　1とは何か\n",
    "\n",
    "eps = torch.randn(500, 1)\n",
    "y = a * x + b + eps"
   ]
  },
  {
   "cell_type": "code",
   "execution_count": 14,
   "metadata": {},
   "outputs": [
    {
     "data": {
      "text/plain": [
       "<matplotlib.collections.PathCollection at 0x1223b8090>"
      ]
     },
     "execution_count": 14,
     "metadata": {},
     "output_type": "execute_result"
    },
    {
     "data": {
      "image/png": "[encoded data removed]",
      "text/plain": [
       "<Figure size 432x288 with 1 Axes>"
      ]
     },
     "metadata": {
      "needs_background": "light"
     },
     "output_type": "display_data"
    }
   ],
   "source": [
    "plt.scatter(x, y)"
   ]
  },
  {
   "cell_type": "markdown",
   "metadata": {},
   "source": [
    "### ネットワークモデルの定義"
   ]
  },
  {
   "cell_type": "code",
   "execution_count": 15,
   "metadata": {},
   "outputs": [],
   "source": [
    "class Nakamura_LR(nn.Module):\n",
    "    def __init__(self):\n",
    "        super().__init__()\n",
    "        self.linear = nn.Linear(in_features=1, out_features=1)\n",
    "\n",
    "    def forward(self, x):\n",
    "        output = self.linear(x)\n",
    "        return output"
   ]
  },
  {
   "cell_type": "code",
   "execution_count": 16,
   "metadata": {},
   "outputs": [],
   "source": [
    "model = Nakamura_LR()"
   ]
  },
  {
   "cell_type": "code",
   "execution_count": 17,
   "metadata": {},
   "outputs": [],
   "source": [
    "criterion = nn.MSELoss()\n",
    "optimizer = optim.SGD(model.parameters(), lr=0.001)"
   ]
  },
  {
   "cell_type": "code",
   "execution_count": 18,
   "metadata": {},
   "outputs": [
    {
     "name": "stdout",
     "output_type": "stream",
     "text": [
      "epoch: 0, loss: 3.529277801513672\n",
      "epoch: 10, loss: 3.4156265258789062\n",
      "epoch: 20, loss: 3.3075709342956543\n",
      "epoch: 30, loss: 3.204833745956421\n",
      "epoch: 40, loss: 3.1071529388427734\n",
      "epoch: 50, loss: 3.0142743587493896\n",
      "epoch: 60, loss: 2.9259650707244873\n",
      "epoch: 70, loss: 2.84199595451355\n",
      "epoch: 80, loss: 2.7621538639068604\n",
      "epoch: 90, loss: 2.686232805252075\n",
      "epoch: 100, loss: 2.6140408515930176\n",
      "epoch: 110, loss: 2.5453925132751465\n",
      "epoch: 120, loss: 2.4801113605499268\n",
      "epoch: 130, loss: 2.4180331230163574\n",
      "epoch: 140, loss: 2.358997344970703\n",
      "epoch: 150, loss: 2.30285382270813\n",
      "epoch: 160, loss: 2.2494606971740723\n",
      "epoch: 170, loss: 2.1986796855926514\n",
      "epoch: 180, loss: 2.1503841876983643\n",
      "epoch: 190, loss: 2.10444974899292\n",
      "epoch: 200, loss: 2.0607595443725586\n",
      "epoch: 210, loss: 2.019202709197998\n",
      "epoch: 220, loss: 1.9796736240386963\n",
      "epoch: 230, loss: 1.9420721530914307\n",
      "epoch: 240, loss: 1.906302571296692\n",
      "epoch: 250, loss: 1.8722747564315796\n",
      "epoch: 260, loss: 1.8399029970169067\n",
      "epoch: 270, loss: 1.809104084968567\n",
      "epoch: 280, loss: 1.7798012495040894\n",
      "epoch: 290, loss: 1.7519199848175049\n",
      "epoch: 300, loss: 1.7253906726837158\n",
      "epoch: 310, loss: 1.7001454830169678\n",
      "epoch: 320, loss: 1.6761218309402466\n",
      "epoch: 330, loss: 1.6532583236694336\n",
      "epoch: 340, loss: 1.6314990520477295\n",
      "epoch: 350, loss: 1.6107882261276245\n",
      "epoch: 360, loss: 1.5910744667053223\n",
      "epoch: 370, loss: 1.5723081827163696\n",
      "epoch: 380, loss: 1.5544432401657104\n",
      "epoch: 390, loss: 1.5374341011047363\n",
      "epoch: 400, loss: 1.5212392807006836\n",
      "epoch: 410, loss: 1.5058181285858154\n",
      "epoch: 420, loss: 1.4911326169967651\n",
      "epoch: 430, loss: 1.4771465063095093\n",
      "epoch: 440, loss: 1.463824987411499\n",
      "epoch: 450, loss: 1.451135277748108\n",
      "epoch: 460, loss: 1.4390462636947632\n",
      "epoch: 470, loss: 1.427527904510498\n",
      "epoch: 480, loss: 1.4165526628494263\n",
      "epoch: 490, loss: 1.4060931205749512\n",
      "epoch: 500, loss: 1.396124243736267\n",
      "epoch: 510, loss: 1.3866219520568848\n",
      "epoch: 520, loss: 1.3775627613067627\n",
      "epoch: 530, loss: 1.3689252138137817\n",
      "epoch: 540, loss: 1.3606877326965332\n",
      "epoch: 550, loss: 1.3528317213058472\n",
      "epoch: 560, loss: 1.3453372716903687\n",
      "epoch: 570, loss: 1.3381876945495605\n",
      "epoch: 580, loss: 1.3313648700714111\n",
      "epoch: 590, loss: 1.3248534202575684\n",
      "epoch: 600, loss: 1.318637728691101\n",
      "epoch: 610, loss: 1.3127034902572632\n",
      "epoch: 620, loss: 1.30703604221344\n",
      "epoch: 630, loss: 1.3016232252120972\n",
      "epoch: 640, loss: 1.2964521646499634\n",
      "epoch: 650, loss: 1.2915105819702148\n",
      "epoch: 660, loss: 1.286787748336792\n",
      "epoch: 670, loss: 1.282272458076477\n",
      "epoch: 680, loss: 1.2779549360275269\n",
      "epoch: 690, loss: 1.2738251686096191\n",
      "epoch: 700, loss: 1.269874095916748\n",
      "epoch: 710, loss: 1.2660925388336182\n",
      "epoch: 720, loss: 1.2624727487564087\n",
      "epoch: 730, loss: 1.259006142616272\n",
      "epoch: 740, loss: 1.2556861639022827\n",
      "epoch: 750, loss: 1.2525044679641724\n",
      "epoch: 760, loss: 1.2494549751281738\n",
      "epoch: 770, loss: 1.2465312480926514\n",
      "epoch: 780, loss: 1.2437270879745483\n",
      "epoch: 790, loss: 1.2410359382629395\n",
      "epoch: 800, loss: 1.2384529113769531\n",
      "epoch: 810, loss: 1.2359730005264282\n",
      "epoch: 820, loss: 1.233590841293335\n",
      "epoch: 830, loss: 1.2313014268875122\n",
      "epoch: 840, loss: 1.2291003465652466\n",
      "epoch: 850, loss: 1.2269837856292725\n",
      "epoch: 860, loss: 1.22494637966156\n",
      "epoch: 870, loss: 1.222986102104187\n",
      "epoch: 880, loss: 1.221097707748413\n",
      "epoch: 890, loss: 1.21927809715271\n",
      "epoch: 900, loss: 1.2175244092941284\n",
      "epoch: 910, loss: 1.2158329486846924\n",
      "epoch: 920, loss: 1.2142009735107422\n",
      "epoch: 930, loss: 1.2126247882843018\n",
      "epoch: 940, loss: 1.2111032009124756\n",
      "epoch: 950, loss: 1.2096320390701294\n",
      "epoch: 960, loss: 1.2082101106643677\n",
      "epoch: 970, loss: 1.2068341970443726\n",
      "epoch: 980, loss: 1.2055026292800903\n",
      "epoch: 990, loss: 1.204213261604309\n"
     ]
    }
   ],
   "source": [
    "losses = []\n",
    "num_epoch = 1000\n",
    "for epoch in range(num_epoch):\n",
    "    optimizer.zero_grad()\n",
    "    y_pred = model(x)\n",
    "    loss = criterion(y_pred, y)\n",
    "    loss.backward()\n",
    "    optimizer.step()\n",
    "    if epoch % 10 == 0:\n",
    "        print(\"epoch: {}, loss: {}\".format(epoch, loss.item()))\n",
    "        losses.append(loss.item())"
   ]
  },
  {
   "cell_type": "code",
   "execution_count": 19,
   "metadata": {},
   "outputs": [
    {
     "data": {
      "text/plain": [
       "[<matplotlib.lines.Line2D at 0x1224f7750>]"
      ]
     },
     "execution_count": 19,
     "metadata": {},
     "output_type": "execute_result"
    },
    {
     "data": {
      "image/png": "[encoded data removed]",
      "text/plain": [
       "<Figure size 432x288 with 1 Axes>"
      ]
     },
     "metadata": {
      "needs_background": "light"
     },
     "output_type": "display_data"
    }
   ],
   "source": [
    "plt.plot(losses)"
   ]
  },
  {
   "cell_type": "code",
   "execution_count": 20,
   "metadata": {},
   "outputs": [
    {
     "data": {
      "text/plain": [
       "<matplotlib.legend.Legend at 0x122559f50>"
      ]
     },
     "execution_count": 20,
     "metadata": {},
     "output_type": "execute_result"
    },
    {
     "data": {
      "image/png": "[encoded data removed]",
      "text/plain": [
       "<Figure size 432x288 with 1 Axes>"
      ]
     },
     "metadata": {
      "needs_background": "light"
     },
     "output_type": "display_data"
    }
   ],
   "source": [
    "x_test = torch.linspace(0, 1, 500).view(500, 1)\n",
    "y_test = model(x_test)\n",
    "plt.plot(x_test, y_test.detach(), label=\"prediction\")\n",
    "plt.scatter(x, y, label=\"data\")\n",
    "plt.legend()"
   ]
  }
 ],
 "metadata": {
  "kernelspec": {
   "display_name": "Python 3",
   "language": "python",
   "name": "python3"
  },
  "language_info": {
   "codemirror_mode": {
    "name": "ipython",
    "version": 3
   },
   "file_extension": ".py",
   "mimetype": "text/x-python",
   "name": "python",
   "nbconvert_exporter": "python",
   "pygments_lexer": "ipython3",
   "version": "3.7.5"
  }
 },
 "nbformat": 4,
 "nbformat_minor": 4
}
