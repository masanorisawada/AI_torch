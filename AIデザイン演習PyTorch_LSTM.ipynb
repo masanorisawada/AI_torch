{
 "cells": [
  {
   "cell_type": "markdown",
   "metadata": {},
   "source": [
    "# PyTorchで LSTM 体験\n",
    "### LSTMの対象：時系列データ（文章、音声、気温、株価、動き(3軸加速度)など）\n",
    "### この演習では X軸方向の加速度データ（sin波で単純化した疑似データ）の値をLSTMに予測させる。=次の動きを予測させるようなイメージ\n",
    "### CPU（ノートPCで十分に計算可能）\n",
    "\n",
    "```\n",
    "以下の問に対して、すべての解答をこの.ipynbファイルに入力し、所定のGoogleClassroomに提出しなさい。\n",
    "\n",
    "\n",
    "【必須】\n",
    "問1 LSTMについて、用語（RNN、再帰、長期記憶、短期記憶）を用いて簡単に説明しなさい。\n",
    "問2 シーケンスとは何か、sequentialの意味から説明しなさい。\n",
    "問3 下記のコードとコメントを参照しながら、予測結果表示までの作業手順（実装方法）を番号付き箇条書きで示しなさい。\n",
    "問4 シーケンス長を変更し、予測値の精度を上げなさい（2つの曲線がぴったり重なるように）。実際に下記のコードに対してシーケンス長を変更して実行し、予測結果（グラフ）を示すとともに、シーケンス長と精度の関係性について簡単に述べなさい。\n",
    "\n",
    "【任意】\n",
    "問5 入力データを下記の例とは異なる波で設定し、実行した結果を示しなさい。\n",
    "問6 実際の株価や気温などの時系列データを用いて予測結果を示しなさい（ネットや書籍のコードを模倣しても構わない）。\n",
    "```"
   ]
  },
  {
   "cell_type": "markdown",
   "metadata": {},
   "source": [
    "【必須】問1　解答欄\n",
    "```\n",
    "LSTM（Long Short Term Memory）とはRNN(Recurrent Neural Network)を改良した物である。RNNとは、ニューラルネットワークを拡張して時系列データを扱えるようにした物である。RNNもニューラルネットワークノの一種であるため、入力層、中間層、出力層の三層を持っている。時刻ごとに入出力が発生するという特徴はあるが、入力層と出力層がそれぞれ入力データ、出力結果を持つ点においては、通常のニューラルネットワークと一緒である。\n",
    "RNNで大きく異なるのは、中間層の構造である。ある時刻の中間層から出力の結果を次の時刻の中間層に伝えている。これによって同じ時刻tの入力層からのデータに加え、前の時刻であるt-1の中間層からのデータも受け取ることとなり再帰していることとなる。 RNNは、中間層の時間経過を配慮しないといけないので単純に誤差逆伝播法を用いることができない。そこで時間経過を表現できるように改良した手法がいくつか提案されている。\n",
    "RNNは遠い過去の中間層出力を反映させることが難しいので、実際の適応時にはそのままの形では無く、若干の改良を加えたネットワークモデルを利用することが多い。そこでLSTMを用いる。LSTMは神経科学の短期記憶、長期記憶からヒントを経てデザインされたものである。\n",
    "短期記憶とは、数分程度の一時的な想起は可能であるが、数日経つと忘れてしまう記憶のことである。\n",
    "長期記憶とは、何年も覚えているような記憶のことである。\n",
    "LSTMは、RNNの中間層出力に対して記憶期間の長さを導入することで、遠い過去の出力の影響を保持することを可能にしている。そのため、中間層からのデータに忘却ゲートという物を作り、どのデータを通すかを選別している。\n",
    "```\n",
    "---"
   ]
  },
  {
   "cell_type": "markdown",
   "metadata": {},
   "source": [
    "【必須】問2　解答欄\n",
    "```\n",
    "sesequentialとは連続（しているもの）、一続き（のもの）、順序、順番、並び、配列（する）、逐次、並べる、順序付ける、などの意味を持つ英単語である。\n",
    "ITの分野では、順番に並んだ一続きのデータや手順のことや、並んだ順番にデータや手順を取り扱う処理方式などのことを意味する場合が多い。\n",
    "```\n",
    "---"
   ]
  },
  {
   "cell_type": "markdown",
   "metadata": {},
   "source": [
    "【必須】問3　解答欄\n",
    "```\n",
    "1:ライブラリのインポート\n",
    "2:入力データの用意\n",
    "3:シーケンスの作成\n",
    "4:訓練データと検証データの作成(学習データと教師データそれぞれに対して)\n",
    "5:LSTMのモデルに入力するためにデータを前処理する\n",
    "6:ネットワークモデルの定義\n",
    "7:ネットワークモデルの実装\n",
    "8:損失関数と最適化関数の定義\n",
    "9:ネットワークモデルの学習\n",
    "```\n",
    "---"
   ]
  },
  {
   "cell_type": "markdown",
   "metadata": {},
   "source": [
    "【必須】問4　解答欄\n",
    "```\n",
    "今回、シーケンス長を30と60と120と200と498で試してみた結果、30と60では近づいて、120で最も近づいた。２００ではそこからすこしづれ、498では完璧に外れた。その結果から、x軸がシークエンス長、y軸が精度だとすると放物線のようなグラフになる。\n",
    "```\n",
    "---"
   ]
  },
  {
   "cell_type": "markdown",
   "metadata": {},
   "source": [
    "## ライブラリのインポート"
   ]
  },
  {
   "cell_type": "code",
   "execution_count": 1,
   "metadata": {
    "colab": {},
    "colab_type": "code",
    "id": "Vv3Y_1AbNSmp"
   },
   "outputs": [],
   "source": [
    "import torch\n",
    "import torch.nn as nn\n",
    "import torch.optim as optim\n",
    "import matplotlib.pyplot as plt\n",
    "import numpy as np\n",
    "plt.style.use('seaborn') # すべてのグラフに縦線を入れたかったので\n",
    "%matplotlib inline"
   ]
  },
  {
   "cell_type": "markdown",
   "metadata": {},
   "source": [
    "## 入力データの用意\n",
    "\n",
    "```今回は例として、X軸方向の加速度データ【sin波で単純化した疑似データ】を自作 ```"
   ]
  },
  {
   "cell_type": "code",
   "execution_count": 2,
   "metadata": {
    "colab": {},
    "colab_type": "code",
    "id": "Ec4qpj0kSd_9"
   },
   "outputs": [],
   "source": [
    "# 入力データとしてsin波を設定\n",
    "t = np.linspace(0, 499, 500) # 時刻t：0〜499まで1刻みで設定\n",
    "x_acc = np.sin(t * np.pi / 50)"
   ]
  },
  {
   "cell_type": "code",
   "execution_count": 3,
   "metadata": {
    "colab": {
     "base_uri": "https://localhost:8080/",
     "height": 283
    },
    "colab_type": "code",
    "id": "QObIn6JJSnKz",
    "outputId": "75433405-0256-46bc-a5b0-f2008aa395c1"
   },
   "outputs": [
    {
     "data": {
      "image/png": "[encoded data removed]",
      "text/plain": [
       "<Figure size 432x288 with 1 Axes>"
      ]
     },
     "metadata": {
      "needs_background": "light"
     },
     "output_type": "display_data"
    }
   ],
   "source": [
    "plt.grid(linewidth=1)\n",
    "plt.ylabel(' x_acc (G)') # X軸方向の加速度と想定\n",
    "plt.xlabel(' t (sec)') # 時間軸と想定\n",
    "plt.plot(t, x_acc);"
   ]
  },
  {
   "cell_type": "markdown",
   "metadata": {},
   "source": [
    "## シーケンスの作成　（学習データと教師データのそれぞれに対して）\n",
    "``` LSTMのモデルを利用するためには入力データを一定長のデータ＝シーケンスに変換する必要がある ```\n",
    "\n",
    "``` 下記の例では シーケンス長を10に設定（10秒間隔で切り出したデータと想定）```"
   ]
  },
  {
   "cell_type": "code",
   "execution_count": 4,
   "metadata": {},
   "outputs": [
    {
     "name": "stdout",
     "output_type": "stream",
     "text": [
      "学習データ： (380, 120)\n",
      "教師データ： (380, 1)\n"
     ]
    }
   ],
   "source": [
    "# 入力データ：x_acc = np.sin(x * np.pi / 50)\n",
    "\n",
    "#######################################\n",
    "\n",
    "seq_length = 120 # シーケンス長を 10 に設定 \n",
    "                # 検証データ数を10とするとき シーケンス長のMaxは489\n",
    "#######################################\n",
    "\n",
    "input_length = len(x_acc)\n",
    "\n",
    "input_seq_data = [] # 学習データのシーケンス格納用配列\n",
    "teaching_seq_data = [] # 教師データのシーケンス格納用配列\n",
    "\n",
    "for i in range(input_length - seq_length): # 500の全データから10のシーケンス長を引いた「490」回繰り返す\n",
    "    input_seq_data.append( x_acc[ i : i+seq_length])\n",
    "    # 入力データ「x_acc」に対して、シーケンス分「10個」のデータを切り出し、配列に追加していく\n",
    "    # i=0  1回目：x_acc[0]からx_acc[9]までの値をinput_seq_data配列に追加\n",
    "    # i=1  2回目：x_acc[1]からx_acc[10]までの　　　　 〃  \n",
    "    # ・・・\n",
    "    # i=489 490回目：x_acc[489]からx_acc[499]までの　〃  \n",
    "    \n",
    "    teaching_seq_data.append( x_acc[ i+seq_length : i+seq_length+1]) \n",
    "    # 教師データには学習データのシーケンス分だけ先「10個先」のデータを格納\n",
    "    # i=0：  x_acc[10]からx_acc[11]までの値をinput_seq_data配列に追加\n",
    "    # i=1：  x_acc[11]からx_acc[12]までの   　     〃  \n",
    "    # ・・・\n",
    "    # i=489：x_acc[499]からx_acc[500]までの　      〃\n",
    "\n",
    "# numpy 配列に変換\n",
    "np_arr_input = np.array(input_seq_data)\n",
    "np_arr_teach = np.array(teaching_seq_data)\n",
    "\n",
    "print('学習データ：', np_arr_input.shape)\n",
    "# シーケンス長=10なので10刻みでデータが格納されている\n",
    "# 490行 x 10列 のデータ（1行あたり10個のデータが格納されている）\n",
    "\n",
    "print('教師データ：', np_arr_teach.shape)\n",
    "# 490行 x 1列 のデータ（１行あたり１個のデータが格納されている）"
   ]
  },
  {
   "cell_type": "markdown",
   "metadata": {},
   "source": [
    "## 訓練データと検証データの作成　（学習データと教師データのそれぞれに対して）"
   ]
  },
  {
   "cell_type": "code",
   "execution_count": 5,
   "metadata": {
    "colab": {},
    "colab_type": "code",
    "id": "9t2YlmrcT70B"
   },
   "outputs": [
    {
     "name": "stdout",
     "output_type": "stream",
     "text": [
      "(370, 120)\n",
      "(10, 120)\n",
      "(370, 1)\n",
      "(10, 1)\n"
     ]
    }
   ],
   "source": [
    "#検証データ数を設定\n",
    "num_test = 10\n",
    "\n",
    "# 学習データについて\n",
    "# 訓練データを作成（全490行のうち、先頭から480行を訓練データとする）\n",
    "input_seq_train = np_arr_input[:-num_test] # 下の処理を簡略化した書き方\n",
    "#input_seq_train = np_arr_input[0:len(np_arr_input)-num_test]\n",
    "\n",
    "# 検証データを作成（全490行のうち、下から10行を検証データとする）\n",
    "input_seq_test = np_arr_input[-num_test:]\n",
    "\n",
    "\n",
    "\n",
    "# 教師データについて\n",
    "# 訓練データを作成（全490行のうち、先頭から480行を訓練データとする）\n",
    "teach_seq_train = np_arr_teach[:-num_test] # 下の処理を簡略化した書き方\n",
    "#teach_seq_train = np_arr_teach[0:len(np_arr_teach)-num_test]\n",
    "\n",
    "# 検証データを作成（全490行のうち、下から10行を検証データとする）\n",
    "teach_seq_test = np_arr_teach[-num_test:]\n",
    "\n",
    "print(input_seq_train.shape) # 480行 x 10列 のデータ\n",
    "print(input_seq_test.shape)  #  10列 x 10列 のデータ\n",
    "print(teach_seq_train.shape) # 480行 x  1列 のデータ\n",
    "print(teach_seq_test.shape)  #  10列 x  1列 のデータ\n",
    "# 全部で490個あったデータから最初の480を訓練データ、残りの10個を検証データに分けたことを確認できる"
   ]
  },
  {
   "cell_type": "markdown",
   "metadata": {},
   "source": [
    "## LSTMのモデルに入力するためにデータを前処理する\n",
    "``` LSTMへの入力形式（シーケンス長、バッチサイズ、入力次元）```\n",
    "\n",
    "``` 今回はバッチサイズ＝訓練データ数（つまり480）```\n",
    "\n",
    "``` 入力次元は x_acc だけなので 1次元 ```"
   ]
  },
  {
   "cell_type": "code",
   "execution_count": 6,
   "metadata": {
    "colab": {},
    "colab_type": "code",
    "id": "hrBOpFK_Uah5"
   },
   "outputs": [
    {
     "name": "stdout",
     "output_type": "stream",
     "text": [
      "torch.Size([370, 120])\n",
      "torch.Size([370, 1])\n"
     ]
    }
   ],
   "source": [
    "# 32bitの浮動小数点数型tensorに変換する\n",
    "train_t = torch.FloatTensor(input_seq_train)\n",
    "teach_t = torch.FloatTensor(teach_seq_train)\n",
    "\n",
    "print(train_t.size())\n",
    "print(teach_t.size())\n",
    "# Tensor型に変換されていることを確認、データ数、シーケンス長の順番で格納されている"
   ]
  },
  {
   "cell_type": "code",
   "execution_count": 7,
   "metadata": {
    "colab": {},
    "colab_type": "code",
    "id": "YZ3CvwayV2Da"
   },
   "outputs": [
    {
     "name": "stdout",
     "output_type": "stream",
     "text": [
      "torch.Size([120, 370])\n",
      "torch.Size([1, 370])\n"
     ]
    }
   ],
   "source": [
    "# 列の順番を入れ替える　シーケンス長を1番目最初に移動する\n",
    "seq_train_t = train_t.permute(1, 0)\n",
    "seq_teach_t = teach_t.permute(1, 0)\n",
    "\n",
    "print(seq_train_t.size())\n",
    "print(seq_teach_t.size())"
   ]
  },
  {
   "cell_type": "code",
   "execution_count": 8,
   "metadata": {
    "colab": {},
    "colab_type": "code",
    "id": "4-0dZsuhWMRJ"
   },
   "outputs": [
    {
     "name": "stdout",
     "output_type": "stream",
     "text": [
      "torch.Size([120, 370, 1])\n",
      "torch.Size([1, 370, 1])\n"
     ]
    }
   ],
   "source": [
    "# ３つ目の軸、入力次元数を設定するために unsquesszeを用いて　一番最後に1を付与する\n",
    "train_data = seq_train_t.unsqueeze(dim= -1)\n",
    "teach_data = seq_teach_t.unsqueeze(dim= -1)\n",
    "\n",
    "print(train_data.size())\n",
    "print(teach_data.size())"
   ]
  },
  {
   "cell_type": "markdown",
   "metadata": {},
   "source": [
    "## ネットワークモデルの定義"
   ]
  },
  {
   "cell_type": "code",
   "execution_count": 9,
   "metadata": {
    "colab": {},
    "colab_type": "code",
    "id": "a9BMdDdrUoji"
   },
   "outputs": [],
   "source": [
    "# LSTMは全結合(Linear)層とセットで使用する\n",
    "\n",
    "class LSTM(nn.Module):\n",
    "    def __init__(self, hidden_size):\n",
    "        super().__init__()\n",
    "\n",
    "        self.hidden_size = hidden_size\n",
    "        # input_size：入力次元 シーケンス長：10、1次元データ        \n",
    "        self.lstm = nn.LSTM(input_size=1, hidden_size=self.hidden_size)\n",
    "        self.linear = nn.Linear(self.hidden_size, 1)\n",
    "    def forward(self, x):\n",
    "        x, _ = self.lstm(x) # 2つの値が返ってくる：出力値(シーケンス)、隠れ層やセルの状態がタプル型でまとまったもの\n",
    "                            # xに格納される1つ目の出力値だけを用いる。２つ目の返り値は不要なので変数を用意しない（メモリ節約）\n",
    "        print(len(x))\n",
    "        x_last = x[-1] # 出力値(シーケンス)の一番最後の値だけを取り出す\n",
    "        x = self.linear(x_last) \n",
    "        return x"
   ]
  },
  {
   "cell_type": "markdown",
   "metadata": {},
   "source": [
    "## ネットモデルの実装"
   ]
  },
  {
   "cell_type": "code",
   "execution_count": 10,
   "metadata": {
    "colab": {},
    "colab_type": "code",
    "id": "L9lE_iTnVmp2"
   },
   "outputs": [],
   "source": [
    "# モデルの実装　隠れ層のサイズを100として実装\n",
    "model = LSTM(100)"
   ]
  },
  {
   "cell_type": "markdown",
   "metadata": {},
   "source": [
    "## 損失関数と最適化関数を定義する（設定する）"
   ]
  },
  {
   "cell_type": "code",
   "execution_count": 11,
   "metadata": {
    "colab": {},
    "colab_type": "code",
    "id": "Mt206f2bVpuB"
   },
   "outputs": [],
   "source": [
    "criterion = nn.MSELoss() # 損失関数として回帰問題用のMSEを用いる\n",
    "optimizer = optim.Adam(model.parameters(), lr=0.001) # 最適化関数のAdamを用いる"
   ]
  },
  {
   "cell_type": "markdown",
   "metadata": {},
   "source": [
    "## ネットワークモデルの学習"
   ]
  },
  {
   "cell_type": "code",
   "execution_count": 12,
   "metadata": {
    "colab": {
     "base_uri": "https://localhost:8080/",
     "height": 217
    },
    "colab_type": "code",
    "id": "9ZoEzlz7WjKq",
    "outputId": "12562ff1-4570-4dbf-f1ff-bb2201ee051c",
    "tags": []
   },
   "outputs": [
    {
     "name": "stdout",
     "output_type": "stream",
     "text": [
      "120\n"
     ]
    },
    {
     "name": "stderr",
     "output_type": "stream",
     "text": [
      "/Users/sawda/.local/share/virtualenvs/torch-c2AwxiQJ/lib/python3.7/site-packages/torch/nn/modules/loss.py:445: UserWarning: Using a target size (torch.Size([1, 370, 1])) that is different to the input size (torch.Size([370, 1])). This will likely lead to incorrect results due to broadcasting. Please ensure they have the same size.\n",
      "  return F.mse_loss(input, target, reduction=self.reduction)\n"
     ]
    },
    {
     "name": "stdout",
     "output_type": "stream",
     "text": [
      "epoch: 0, loss: 0.5243183970451355\n",
      "120\n",
      "epoch: 1, loss: 0.5115536451339722\n",
      "120\n",
      "epoch: 2, loss: 0.498826265335083\n",
      "120\n",
      "epoch: 3, loss: 0.48603564500808716\n",
      "120\n",
      "epoch: 4, loss: 0.47305527329444885\n",
      "120\n",
      "epoch: 5, loss: 0.45974451303482056\n",
      "120\n",
      "epoch: 6, loss: 0.44595086574554443\n",
      "120\n",
      "epoch: 7, loss: 0.4315073788166046\n",
      "120\n",
      "epoch: 8, loss: 0.41622668504714966\n",
      "120\n",
      "epoch: 9, loss: 0.399895578622818\n",
      "120\n",
      "epoch: 10, loss: 0.3822634220123291\n",
      "120\n",
      "epoch: 11, loss: 0.36302876472473145\n",
      "120\n",
      "epoch: 12, loss: 0.3418225347995758\n",
      "120\n",
      "epoch: 13, loss: 0.31820380687713623\n",
      "120\n",
      "epoch: 14, loss: 0.29167959094047546\n",
      "120\n",
      "epoch: 15, loss: 0.2617904543876648\n",
      "120\n",
      "epoch: 16, loss: 0.2283792793750763\n",
      "120\n",
      "epoch: 17, loss: 0.1923784762620926\n",
      "120\n",
      "epoch: 18, loss: 0.15804365277290344\n",
      "120\n",
      "epoch: 19, loss: 0.13816073536872864\n",
      "120\n",
      "epoch: 20, loss: 0.14504374563694\n",
      "120\n",
      "epoch: 21, loss: 0.14800189435482025\n",
      "120\n",
      "epoch: 22, loss: 0.1330074667930603\n",
      "120\n",
      "epoch: 23, loss: 0.11202049255371094\n",
      "120\n",
      "epoch: 24, loss: 0.09631487727165222\n",
      "120\n",
      "epoch: 25, loss: 0.08789119869470596\n",
      "120\n",
      "epoch: 26, loss: 0.08365103602409363\n",
      "120\n",
      "epoch: 27, loss: 0.0803927630186081\n",
      "120\n",
      "epoch: 28, loss: 0.07637857645750046\n",
      "120\n",
      "epoch: 29, loss: 0.07110410183668137\n",
      "120\n",
      "epoch: 30, loss: 0.06483861804008484\n",
      "120\n",
      "epoch: 31, loss: 0.058305561542510986\n",
      "120\n",
      "epoch: 32, loss: 0.052375778555870056\n",
      "120\n",
      "epoch: 33, loss: 0.047551654279232025\n",
      "120\n",
      "epoch: 34, loss: 0.043346256017684937\n",
      "120\n",
      "epoch: 35, loss: 0.03855394572019577\n",
      "120\n",
      "epoch: 36, loss: 0.03290020674467087\n",
      "120\n",
      "epoch: 37, loss: 0.027738744392991066\n",
      "120\n",
      "epoch: 38, loss: 0.02450295351445675\n",
      "120\n",
      "epoch: 39, loss: 0.023203754797577858\n",
      "120\n",
      "epoch: 40, loss: 0.022562744095921516\n",
      "120\n",
      "epoch: 41, loss: 0.021178115159273148\n",
      "120\n",
      "epoch: 42, loss: 0.01849844492971897\n",
      "120\n",
      "epoch: 43, loss: 0.014981702901422977\n",
      "120\n",
      "epoch: 44, loss: 0.011637200601398945\n",
      "120\n",
      "epoch: 45, loss: 0.009373066946864128\n",
      "120\n",
      "epoch: 46, loss: 0.008425727486610413\n",
      "120\n",
      "epoch: 47, loss: 0.008180155418813229\n",
      "120\n",
      "epoch: 48, loss: 0.007718230597674847\n",
      "120\n",
      "epoch: 49, loss: 0.0066706039942801\n",
      "120\n",
      "epoch: 50, loss: 0.0053510041907429695\n",
      "120\n",
      "epoch: 51, loss: 0.004202564712613821\n",
      "120\n",
      "epoch: 52, loss: 0.0033898965921252966\n",
      "120\n",
      "epoch: 53, loss: 0.0028317368123680353\n",
      "120\n",
      "epoch: 54, loss: 0.002416892908513546\n",
      "120\n",
      "epoch: 55, loss: 0.0021219905465841293\n",
      "120\n",
      "epoch: 56, loss: 0.00195579812861979\n",
      "120\n",
      "epoch: 57, loss: 0.0018394987564533949\n",
      "120\n",
      "epoch: 58, loss: 0.0016116190236061811\n",
      "120\n",
      "epoch: 59, loss: 0.0012557136360555887\n",
      "120\n",
      "epoch: 60, loss: 0.0010314671089872718\n",
      "120\n",
      "epoch: 61, loss: 0.0011556065874174237\n",
      "120\n",
      "epoch: 62, loss: 0.0014622417511418462\n",
      "120\n",
      "epoch: 63, loss: 0.0015581757761538029\n",
      "120\n",
      "epoch: 64, loss: 0.0012892407830804586\n",
      "120\n",
      "epoch: 65, loss: 0.0009442020091228187\n",
      "120\n",
      "epoch: 66, loss: 0.000910068629309535\n",
      "120\n",
      "epoch: 67, loss: 0.0011512547498568892\n",
      "120\n",
      "epoch: 68, loss: 0.0012530882377177477\n",
      "120\n",
      "epoch: 69, loss: 0.001032679807394743\n",
      "120\n",
      "epoch: 70, loss: 0.0007546462584286928\n",
      "120\n",
      "epoch: 71, loss: 0.0006795583758503199\n",
      "120\n",
      "epoch: 72, loss: 0.0007411188562400639\n",
      "120\n",
      "epoch: 73, loss: 0.0007352986722253263\n",
      "120\n",
      "epoch: 74, loss: 0.0005995851242914796\n",
      "120\n",
      "epoch: 75, loss: 0.00043347160681150854\n",
      "120\n",
      "epoch: 76, loss: 0.0003465270565357059\n",
      "120\n",
      "epoch: 77, loss: 0.00034350284840911627\n",
      "120\n",
      "epoch: 78, loss: 0.00035026384284719825\n",
      "120\n",
      "epoch: 79, loss: 0.00031556145404465497\n",
      "120\n",
      "epoch: 80, loss: 0.0002569322823546827\n",
      "120\n",
      "epoch: 81, loss: 0.00021813322382513434\n",
      "120\n",
      "epoch: 82, loss: 0.0002143439050996676\n",
      "120\n",
      "epoch: 83, loss: 0.00022638631344307214\n",
      "120\n",
      "epoch: 84, loss: 0.00023017363855615258\n",
      "120\n",
      "epoch: 85, loss: 0.00021948019275441766\n",
      "120\n",
      "epoch: 86, loss: 0.0002042606211034581\n",
      "120\n",
      "epoch: 87, loss: 0.00019560496730264276\n",
      "120\n",
      "epoch: 88, loss: 0.0001954856707016006\n",
      "120\n",
      "epoch: 89, loss: 0.00019807419448625296\n",
      "120\n",
      "epoch: 90, loss: 0.00019683923164848238\n",
      "120\n",
      "epoch: 91, loss: 0.00018962718604598194\n",
      "120\n",
      "epoch: 92, loss: 0.00017882848624140024\n",
      "120\n",
      "epoch: 93, loss: 0.00016834447160363197\n",
      "120\n",
      "epoch: 94, loss: 0.00016052875434979796\n",
      "120\n",
      "epoch: 95, loss: 0.00015490422083530575\n",
      "120\n",
      "epoch: 96, loss: 0.00014880034723319113\n",
      "120\n",
      "epoch: 97, loss: 0.00013959025091025978\n",
      "120\n",
      "epoch: 98, loss: 0.00012737787619698793\n",
      "120\n",
      "epoch: 99, loss: 0.00011550989438546821\n"
     ]
    }
   ],
   "source": [
    "num_epochs = 100\n",
    "losses = []\n",
    "for epoch in range(num_epochs):\n",
    "    # 今回はミニバッチ学習ではなく、バッチ学習なので最適化関数の初期化から始める\n",
    "    optimizer.zero_grad()\n",
    "    output = model(train_data)\n",
    "    loss = criterion(output, teach_data)\n",
    "    loss.backward()\n",
    "    losses.append(loss.item())\n",
    "    optimizer.step()\n",
    "    print(\"epoch: {}, loss: {}\".format(epoch, loss.item()))"
   ]
  },
  {
   "cell_type": "code",
   "execution_count": 13,
   "metadata": {
    "colab": {
     "base_uri": "https://localhost:8080/",
     "height": 283
    },
    "colab_type": "code",
    "id": "KJ5pd7BCXLvN",
    "outputId": "d5464a7e-aeea-4489-894b-d79479526d85"
   },
   "outputs": [
    {
     "data": {
      "text/plain": [
       "[<matplotlib.lines.Line2D at 0x11f2048d0>]"
      ]
     },
     "execution_count": 13,
     "metadata": {},
     "output_type": "execute_result"
    },
    {
     "data": {
      "image/png": "[encoded data removed]",
      "text/plain": [
       "<Figure size 432x288 with 1 Axes>"
      ]
     },
     "metadata": {
      "needs_background": "light"
     },
     "output_type": "display_data"
    }
   ],
   "source": [
    "plt.plot(losses)"
   ]
  },
  {
   "cell_type": "code",
   "execution_count": 14,
   "metadata": {
    "colab": {},
    "colab_type": "code",
    "id": "pqpd_QIlXTLq"
   },
   "outputs": [
    {
     "data": {
      "text/plain": [
       "torch.Size([120, 10, 1])"
      ]
     },
     "execution_count": 14,
     "metadata": {},
     "output_type": "execute_result"
    }
   ],
   "source": [
    "# 訓練データのときと同様に Tensor変換、列の入れ替え、次元の追加をおこなう\n",
    "test_data = torch.FloatTensor(input_seq_test)\n",
    "test_data = test_data.permute(1, 0)\n",
    "test_data = test_data.unsqueeze(dim=-1)\n",
    "test_data.size()"
   ]
  },
  {
   "cell_type": "code",
   "execution_count": 15,
   "metadata": {
    "colab": {},
    "colab_type": "code",
    "id": "HwkgeHNVX0qb",
    "tags": []
   },
   "outputs": [
    {
     "name": "stdout",
     "output_type": "stream",
     "text": [
      "120\n"
     ]
    },
    {
     "data": {
      "text/plain": [
       "torch.Size([10, 1])"
      ]
     },
     "execution_count": 15,
     "metadata": {},
     "output_type": "execute_result"
    }
   ],
   "source": [
    "x_acc_pred = model(test_data)\n",
    "x_acc_pred.size()"
   ]
  },
  {
   "cell_type": "code",
   "execution_count": 16,
   "metadata": {
    "colab": {
     "base_uri": "https://localhost:8080/",
     "height": 283
    },
    "colab_type": "code",
    "id": "tzUFTFdjX-Vx",
    "outputId": "4a14b3c1-092f-400b-8863-5cbd773513f7"
   },
   "outputs": [
    {
     "data": {
      "text/plain": [
       "[<matplotlib.lines.Line2D at 0x11f2a4510>]"
      ]
     },
     "execution_count": 16,
     "metadata": {},
     "output_type": "execute_result"
    },
    {
     "data": {
      "image/png": "[encoded data removed]",
      "text/plain": [
       "<Figure size 432x288 with 1 Axes>"
      ]
     },
     "metadata": {
      "needs_background": "light"
     },
     "output_type": "display_data"
    }
   ],
   "source": [
    "# まずは全体を表示　x = 490 〜 500 の一致度を確認　緑色が予測線\n",
    "plt.plot(t, x_acc)\n",
    "plt.plot(np.arange(490, 500), x_acc_pred.detach())"
   ]
  },
  {
   "cell_type": "code",
   "execution_count": 17,
   "metadata": {},
   "outputs": [
    {
     "data": {
      "text/plain": [
       "(450.0, 500.0)"
      ]
     },
     "execution_count": 17,
     "metadata": {},
     "output_type": "execute_result"
    },
    {
     "data": {
      "image/png": "[encoded data removed]",
      "text/plain": [
       "<Figure size 432x288 with 1 Axes>"
      ]
     },
     "metadata": {
      "needs_background": "light"
     },
     "output_type": "display_data"
    }
   ],
   "source": [
    "# 一致度を分かりやすくするために450-500付近を拡大表示\n",
    "\n",
    "plt.plot(t, x_acc)\n",
    "plt.plot(np.arange(490, 500), x_acc_pred.detach())\n",
    "plt.xlim([450, 500])"
   ]
  },
  {
   "cell_type": "markdown",
   "metadata": {},
   "source": [
    "【必須】問5 入力データを下記の例とは異なる波で設定し、実行した結果を示しなさい。 解答欄\n"
   ]
  },
  {
   "cell_type": "code",
   "execution_count": 2,
   "metadata": {},
   "outputs": [],
   "source": [
    "# 入力データとしてsin波を設定\n",
    "t = np.linspace(0, 499, 500) # 時刻t：0〜499まで1刻みで設定\n",
    "x_acc = np.sin(t * np.pi / 200)"
   ]
  },
  {
   "cell_type": "code",
   "execution_count": 3,
   "metadata": {},
   "outputs": [
    {
     "data": {
      "image/png": "[encoded data removed]",
      "text/plain": [
       "<Figure size 432x288 with 1 Axes>"
      ]
     },
     "metadata": {
      "needs_background": "light"
     },
     "output_type": "display_data"
    }
   ],
   "source": [
    "plt.grid(linewidth=1)\n",
    "plt.ylabel(' x_acc (G)') # X軸方向の加速度と想定\n",
    "plt.xlabel(' t (sec)') # 時間軸と想定\n",
    "plt.plot(t, x_acc);"
   ]
  },
  {
   "cell_type": "code",
   "execution_count": 4,
   "metadata": {},
   "outputs": [
    {
     "name": "stdout",
     "output_type": "stream",
     "text": [
      "学習データ： (300, 200)\n",
      "教師データ： (300, 1)\n"
     ]
    }
   ],
   "source": [
    "# 入力データ：x_acc = np.sin(x * np.pi / 50)\n",
    "\n",
    "#######################################\n",
    "\n",
    "seq_length = 200 # シーケンス長を 10 に設定 \n",
    "                # 検証データ数を10とするとき シーケンス長のMaxは489\n",
    "#######################################\n",
    "\n",
    "input_length = len(x_acc)\n",
    "\n",
    "input_seq_data = [] # 学習データのシーケンス格納用配列\n",
    "teaching_seq_data = [] # 教師データのシーケンス格納用配列\n",
    "\n",
    "for i in range(input_length - seq_length): # 500の全データから10のシーケンス長を引いた「490」回繰り返す\n",
    "    input_seq_data.append( x_acc[ i : i+seq_length])\n",
    "    # 入力データ「x_acc」に対して、シーケンス分「10個」のデータを切り出し、配列に追加していく\n",
    "    # i=0  1回目：x_acc[0]からx_acc[9]までの値をinput_seq_data配列に追加\n",
    "    # i=1  2回目：x_acc[1]からx_acc[10]までの　　　　 〃  \n",
    "    # ・・・\n",
    "    # i=489 490回目：x_acc[489]からx_acc[499]までの　〃  \n",
    "    \n",
    "    teaching_seq_data.append( x_acc[ i+seq_length : i+seq_length+1]) \n",
    "    # 教師データには学習データのシーケンス分だけ先「10個先」のデータを格納\n",
    "    # i=0：  x_acc[10]からx_acc[11]までの値をinput_seq_data配列に追加\n",
    "    # i=1：  x_acc[11]からx_acc[12]までの   　     〃  \n",
    "    # ・・・\n",
    "    # i=489：x_acc[499]からx_acc[500]までの　      〃\n",
    "\n",
    "# numpy 配列に変換\n",
    "np_arr_input = np.array(input_seq_data)\n",
    "np_arr_teach = np.array(teaching_seq_data)\n",
    "\n",
    "print('学習データ：', np_arr_input.shape)\n",
    "# シーケンス長=10なので10刻みでデータが格納されている\n",
    "# 490行 x 10列 のデータ（1行あたり10個のデータが格納されている）\n",
    "\n",
    "print('教師データ：', np_arr_teach.shape)\n",
    "# 490行 x 1列 のデータ（１行あたり１個のデータが格納されている）"
   ]
  },
  {
   "cell_type": "code",
   "execution_count": 5,
   "metadata": {},
   "outputs": [
    {
     "name": "stdout",
     "output_type": "stream",
     "text": [
      "(290, 200)\n",
      "(10, 200)\n",
      "(290, 1)\n",
      "(10, 1)\n"
     ]
    }
   ],
   "source": [
    "#検証データ数を設定\n",
    "num_test = 10\n",
    "\n",
    "# 学習データについて\n",
    "# 訓練データを作成（全490行のうち、先頭から480行を訓練データとする）\n",
    "input_seq_train = np_arr_input[:-num_test] # 下の処理を簡略化した書き方\n",
    "#input_seq_train = np_arr_input[0:len(np_arr_input)-num_test]\n",
    "\n",
    "# 検証データを作成（全490行のうち、下から10行を検証データとする）\n",
    "input_seq_test = np_arr_input[-num_test:]\n",
    "\n",
    "\n",
    "\n",
    "# 教師データについて\n",
    "# 訓練データを作成（全490行のうち、先頭から480行を訓練データとする）\n",
    "teach_seq_train = np_arr_teach[:-num_test] # 下の処理を簡略化した書き方\n",
    "#teach_seq_train = np_arr_teach[0:len(np_arr_teach)-num_test]\n",
    "\n",
    "# 検証データを作成（全490行のうち、下から10行を検証データとする）\n",
    "teach_seq_test = np_arr_teach[-num_test:]\n",
    "\n",
    "print(input_seq_train.shape) # 480行 x 10列 のデータ\n",
    "print(input_seq_test.shape)  #  10列 x 10列 のデータ\n",
    "print(teach_seq_train.shape) # 480行 x  1列 のデータ\n",
    "print(teach_seq_test.shape)  #  10列 x  1列 のデータ\n",
    "# 全部で490個あったデータから最初の480を訓練データ、残りの10個を検証データに分けたことを確認できる"
   ]
  },
  {
   "cell_type": "code",
   "execution_count": 6,
   "metadata": {},
   "outputs": [
    {
     "name": "stdout",
     "output_type": "stream",
     "text": [
      "torch.Size([290, 200])\n",
      "torch.Size([290, 1])\n"
     ]
    }
   ],
   "source": [
    "# 32bitの浮動小数点数型tensorに変換する\n",
    "train_t = torch.FloatTensor(input_seq_train)\n",
    "teach_t = torch.FloatTensor(teach_seq_train)\n",
    "\n",
    "print(train_t.size())\n",
    "print(teach_t.size())\n",
    "# Tensor型に変換されていることを確認、データ数、シーケンス長の順番で格納されている"
   ]
  },
  {
   "cell_type": "code",
   "execution_count": 7,
   "metadata": {},
   "outputs": [
    {
     "name": "stdout",
     "output_type": "stream",
     "text": [
      "torch.Size([200, 290])\n",
      "torch.Size([1, 290])\n"
     ]
    }
   ],
   "source": [
    "# 列の順番を入れ替える　シーケンス長を1番目最初に移動する\n",
    "seq_train_t = train_t.permute(1, 0)\n",
    "seq_teach_t = teach_t.permute(1, 0)\n",
    "\n",
    "print(seq_train_t.size())\n",
    "print(seq_teach_t.size())"
   ]
  },
  {
   "cell_type": "code",
   "execution_count": 8,
   "metadata": {},
   "outputs": [
    {
     "name": "stdout",
     "output_type": "stream",
     "text": [
      "torch.Size([200, 290, 1])\n",
      "torch.Size([1, 290, 1])\n"
     ]
    }
   ],
   "source": [
    "# ３つ目の軸、入力次元数を設定するために unsquesszeを用いて　一番最後に1を付与する\n",
    "train_data = seq_train_t.unsqueeze(dim= -1)\n",
    "teach_data = seq_teach_t.unsqueeze(dim= -1)\n",
    "\n",
    "print(train_data.size())\n",
    "print(teach_data.size())"
   ]
  },
  {
   "cell_type": "code",
   "execution_count": 9,
   "metadata": {},
   "outputs": [],
   "source": [
    "# LSTMは全結合(Linear)層とセットで使用する\n",
    "\n",
    "class LSTM(nn.Module):\n",
    "    def __init__(self, hidden_size):\n",
    "        super().__init__()\n",
    "\n",
    "        self.hidden_size = hidden_size\n",
    "        # input_size：入力次元 シーケンス長：10、1次元データ        \n",
    "        self.lstm = nn.LSTM(input_size=1, hidden_size=self.hidden_size)\n",
    "        self.linear = nn.Linear(self.hidden_size, 1)\n",
    "    def forward(self, x):\n",
    "        x, _ = self.lstm(x) # 2つの値が返ってくる：出力値(シーケンス)、隠れ層やセルの状態がタプル型でまとまったもの\n",
    "                            # xに格納される1つ目の出力値だけを用いる。２つ目の返り値は不要なので変数を用意しない（メモリ節約）\n",
    "        print(len(x))\n",
    "        x_last = x[-1] # 出力値(シーケンス)の一番最後の値だけを取り出す\n",
    "        x = self.linear(x_last) \n",
    "        return x"
   ]
  },
  {
   "cell_type": "code",
   "execution_count": 10,
   "metadata": {},
   "outputs": [],
   "source": [
    "# モデルの実装　隠れ層のサイズを100として実装\n",
    "model = LSTM(100)"
   ]
  },
  {
   "cell_type": "code",
   "execution_count": 11,
   "metadata": {},
   "outputs": [],
   "source": [
    "criterion = nn.MSELoss() # 損失関数として回帰問題用のMSEを用いる\n",
    "optimizer = optim.Adam(model.parameters(), lr=0.001) # 最適化関数のAdamを用いる"
   ]
  },
  {
   "cell_type": "code",
   "execution_count": 12,
   "metadata": {},
   "outputs": [
    {
     "name": "stdout",
     "output_type": "stream",
     "text": [
      "200\n"
     ]
    },
    {
     "name": "stderr",
     "output_type": "stream",
     "text": [
      "/Users/sawda/.local/share/virtualenvs/torch-c2AwxiQJ/lib/python3.7/site-packages/torch/nn/modules/loss.py:445: UserWarning: Using a target size (torch.Size([1, 290, 1])) that is different to the input size (torch.Size([290, 1])). This will likely lead to incorrect results due to broadcasting. Please ensure they have the same size.\n",
      "  return F.mse_loss(input, target, reduction=self.reduction)\n"
     ]
    },
    {
     "name": "stdout",
     "output_type": "stream",
     "text": [
      "epoch: 0, loss: 0.5427303910255432\n",
      "200\n",
      "epoch: 1, loss: 0.5181577205657959\n",
      "200\n",
      "epoch: 2, loss: 0.4942426085472107\n",
      "200\n",
      "epoch: 3, loss: 0.47078025341033936\n",
      "200\n",
      "epoch: 4, loss: 0.44759589433670044\n",
      "200\n",
      "epoch: 5, loss: 0.42450350522994995\n",
      "200\n",
      "epoch: 6, loss: 0.4012828469276428\n",
      "200\n",
      "epoch: 7, loss: 0.3776814043521881\n",
      "200\n",
      "epoch: 8, loss: 0.3534267842769623\n",
      "200\n",
      "epoch: 9, loss: 0.3282490670681\n",
      "200\n",
      "epoch: 10, loss: 0.30191290378570557\n",
      "200\n",
      "epoch: 11, loss: 0.27429232001304626\n",
      "200\n",
      "epoch: 12, loss: 0.24559104442596436\n",
      "200\n",
      "epoch: 13, loss: 0.2169763445854187\n",
      "200\n",
      "epoch: 14, loss: 0.1924695074558258\n",
      "200\n",
      "epoch: 15, loss: 0.1840629279613495\n",
      "200\n",
      "epoch: 16, loss: 0.20449773967266083\n",
      "200\n",
      "epoch: 17, loss: 0.19510780274868011\n",
      "200\n",
      "epoch: 18, loss: 0.16617120802402496\n",
      "200\n",
      "epoch: 19, loss: 0.14499343931674957\n",
      "200\n",
      "epoch: 20, loss: 0.13409484922885895\n",
      "200\n",
      "epoch: 21, loss: 0.12814414501190186\n",
      "200\n",
      "epoch: 22, loss: 0.12311725318431854\n",
      "200\n",
      "epoch: 23, loss: 0.11690967530012131\n",
      "200\n",
      "epoch: 24, loss: 0.1085328683257103\n",
      "200\n",
      "epoch: 25, loss: 0.09763569384813309\n",
      "200\n",
      "epoch: 26, loss: 0.08441953361034393\n",
      "200\n",
      "epoch: 27, loss: 0.06991574168205261\n",
      "200\n",
      "epoch: 28, loss: 0.05663255974650383\n",
      "200\n",
      "epoch: 29, loss: 0.0488445907831192\n",
      "200\n",
      "epoch: 30, loss: 0.048277728259563446\n",
      "200\n",
      "epoch: 31, loss: 0.045134346932172775\n",
      "200\n",
      "epoch: 32, loss: 0.03405286371707916\n",
      "200\n",
      "epoch: 33, loss: 0.024372156709432602\n",
      "200\n",
      "epoch: 34, loss: 0.020884044468402863\n",
      "200\n",
      "epoch: 35, loss: 0.021027129143476486\n",
      "200\n",
      "epoch: 36, loss: 0.021527592092752457\n",
      "200\n",
      "epoch: 37, loss: 0.021153466776013374\n",
      "200\n",
      "epoch: 38, loss: 0.0204820167273283\n",
      "200\n",
      "epoch: 39, loss: 0.020629800856113434\n",
      "200\n",
      "epoch: 40, loss: 0.021569570526480675\n",
      "200\n",
      "epoch: 41, loss: 0.02174878492951393\n",
      "200\n",
      "epoch: 42, loss: 0.01979876682162285\n",
      "200\n",
      "epoch: 43, loss: 0.01596977189183235\n",
      "200\n",
      "epoch: 44, loss: 0.011789260432124138\n",
      "200\n",
      "epoch: 45, loss: 0.008700286969542503\n",
      "200\n",
      "epoch: 46, loss: 0.007186519913375378\n",
      "200\n",
      "epoch: 47, loss: 0.006894690450280905\n",
      "200\n",
      "epoch: 48, loss: 0.007185294758528471\n",
      "200\n",
      "epoch: 49, loss: 0.007539629936218262\n",
      "200\n",
      "epoch: 50, loss: 0.007695718668401241\n",
      "200\n",
      "epoch: 51, loss: 0.007613342255353928\n",
      "200\n",
      "epoch: 52, loss: 0.007374431472271681\n",
      "200\n",
      "epoch: 53, loss: 0.007079397328197956\n",
      "200\n",
      "epoch: 54, loss: 0.006774733308702707\n",
      "200\n",
      "epoch: 55, loss: 0.006436190102249384\n",
      "200\n",
      "epoch: 56, loss: 0.006010797806084156\n",
      "200\n",
      "epoch: 57, loss: 0.005485220812261105\n",
      "200\n",
      "epoch: 58, loss: 0.0049258810468018055\n",
      "200\n",
      "epoch: 59, loss: 0.004457998089492321\n",
      "200\n",
      "epoch: 60, loss: 0.004199331626296043\n",
      "200\n",
      "epoch: 61, loss: 0.004194264300167561\n",
      "200\n",
      "epoch: 62, loss: 0.004386704880744219\n",
      "200\n",
      "epoch: 63, loss: 0.004644845612347126\n",
      "200\n",
      "epoch: 64, loss: 0.004824043717235327\n",
      "200\n",
      "epoch: 65, loss: 0.004832351580262184\n",
      "200\n",
      "epoch: 66, loss: 0.004661101382225752\n",
      "200\n",
      "epoch: 67, loss: 0.0043699550442397594\n",
      "200\n",
      "epoch: 68, loss: 0.004047264810651541\n",
      "200\n",
      "epoch: 69, loss: 0.0037727048620581627\n",
      "200\n",
      "epoch: 70, loss: 0.0035946147982031107\n",
      "200\n",
      "epoch: 71, loss: 0.003521723672747612\n",
      "200\n",
      "epoch: 72, loss: 0.0035268347710371017\n",
      "200\n",
      "epoch: 73, loss: 0.00356131698936224\n",
      "200\n",
      "epoch: 74, loss: 0.0035766679793596268\n",
      "200\n",
      "epoch: 75, loss: 0.003544274717569351\n",
      "200\n",
      "epoch: 76, loss: 0.0034633080940693617\n",
      "200\n",
      "epoch: 77, loss: 0.00335360923781991\n",
      "200\n",
      "epoch: 78, loss: 0.0032402188517153263\n",
      "200\n",
      "epoch: 79, loss: 0.0031403196044266224\n",
      "200\n",
      "epoch: 80, loss: 0.0030591844115406275\n",
      "200\n",
      "epoch: 81, loss: 0.0029941906686872244\n",
      "200\n",
      "epoch: 82, loss: 0.0029413860756903887\n",
      "200\n",
      "epoch: 83, loss: 0.002899365033954382\n",
      "200\n",
      "epoch: 84, loss: 0.002868583193048835\n",
      "200\n",
      "epoch: 85, loss: 0.0028478901367634535\n",
      "200\n",
      "epoch: 86, loss: 0.0028318564873188734\n",
      "200\n",
      "epoch: 87, loss: 0.002811641665175557\n",
      "200\n",
      "epoch: 88, loss: 0.0027793075423687696\n",
      "200\n",
      "epoch: 89, loss: 0.002732552122324705\n",
      "200\n",
      "epoch: 90, loss: 0.0026763146743178368\n",
      "200\n",
      "epoch: 91, loss: 0.0026199317071586847\n",
      "200\n",
      "epoch: 92, loss: 0.0025718542747199535\n",
      "200\n",
      "epoch: 93, loss: 0.002535480773076415\n",
      "200\n",
      "epoch: 94, loss: 0.0025084742810577154\n",
      "200\n",
      "epoch: 95, loss: 0.0024852771311998367\n",
      "200\n",
      "epoch: 96, loss: 0.002460680203512311\n",
      "200\n",
      "epoch: 97, loss: 0.002432152396067977\n",
      "200\n",
      "epoch: 98, loss: 0.0023999642580747604\n",
      "200\n",
      "epoch: 99, loss: 0.002365708816796541\n"
     ]
    }
   ],
   "source": [
    "num_epochs = 100\n",
    "losses = []\n",
    "for epoch in range(num_epochs):\n",
    "    # 今回はミニバッチ学習ではなく、バッチ学習なので最適化関数の初期化から始める\n",
    "    optimizer.zero_grad()\n",
    "    output = model(train_data)\n",
    "    loss = criterion(output, teach_data)\n",
    "    loss.backward()\n",
    "    losses.append(loss.item())\n",
    "    optimizer.step()\n",
    "    print(\"epoch: {}, loss: {}\".format(epoch, loss.item()))"
   ]
  },
  {
   "cell_type": "code",
   "execution_count": 13,
   "metadata": {},
   "outputs": [
    {
     "data": {
      "text/plain": [
       "[<matplotlib.lines.Line2D at 0x11d3aa990>]"
      ]
     },
     "execution_count": 13,
     "metadata": {},
     "output_type": "execute_result"
    },
    {
     "data": {
      "image/png": "[encoded data removed]",
      "text/plain": [
       "<Figure size 432x288 with 1 Axes>"
      ]
     },
     "metadata": {
      "needs_background": "light"
     },
     "output_type": "display_data"
    }
   ],
   "source": [
    "plt.plot(losses)"
   ]
  },
  {
   "cell_type": "code",
   "execution_count": 14,
   "metadata": {},
   "outputs": [
    {
     "data": {
      "text/plain": [
       "torch.Size([200, 10, 1])"
      ]
     },
     "execution_count": 14,
     "metadata": {},
     "output_type": "execute_result"
    }
   ],
   "source": [
    "# 訓練データのときと同様に Tensor変換、列の入れ替え、次元の追加をおこなう\n",
    "test_data = torch.FloatTensor(input_seq_test)\n",
    "test_data = test_data.permute(1, 0)\n",
    "test_data = test_data.unsqueeze(dim=-1)\n",
    "test_data.size()"
   ]
  },
  {
   "cell_type": "code",
   "execution_count": 15,
   "metadata": {},
   "outputs": [
    {
     "name": "stdout",
     "output_type": "stream",
     "text": [
      "200\n"
     ]
    },
    {
     "data": {
      "text/plain": [
       "torch.Size([10, 1])"
      ]
     },
     "execution_count": 15,
     "metadata": {},
     "output_type": "execute_result"
    }
   ],
   "source": [
    "x_acc_pred = model(test_data)\n",
    "x_acc_pred.size()"
   ]
  },
  {
   "cell_type": "code",
   "execution_count": 16,
   "metadata": {},
   "outputs": [
    {
     "data": {
      "text/plain": [
       "[<matplotlib.lines.Line2D at 0x11d421fd0>]"
      ]
     },
     "execution_count": 16,
     "metadata": {},
     "output_type": "execute_result"
    },
    {
     "data": {
      "image/png": "[encoded data removed]",
      "text/plain": [
       "<Figure size 432x288 with 1 Axes>"
      ]
     },
     "metadata": {
      "needs_background": "light"
     },
     "output_type": "display_data"
    }
   ],
   "source": [
    "# まずは全体を表示　x = 490 〜 500 の一致度を確認　緑色が予測線\n",
    "plt.plot(t, x_acc)\n",
    "plt.plot(np.arange(490, 500), x_acc_pred.detach())"
   ]
  },
  {
   "cell_type": "code",
   "execution_count": 17,
   "metadata": {},
   "outputs": [
    {
     "data": {
      "text/plain": [
       "(450.0, 500.0)"
      ]
     },
     "execution_count": 17,
     "metadata": {},
     "output_type": "execute_result"
    },
    {
     "data": {
      "image/png": "[encoded data removed]",
      "text/plain": [
       "<Figure size 432x288 with 1 Axes>"
      ]
     },
     "metadata": {
      "needs_background": "light"
     },
     "output_type": "display_data"
    }
   ],
   "source": [
    "# 一致度を分かりやすくするために450-500付近を拡大表示\n",
    "\n",
    "plt.plot(t, x_acc)\n",
    "plt.plot(np.arange(490, 500), x_acc_pred.detach())\n",
    "plt.xlim([450, 500])"
   ]
  },
  {
   "cell_type": "code",
   "execution_count": null,
   "metadata": {},
   "outputs": [],
   "source": []
  }
 ],
 "metadata": {
  "colab": {
   "name": "LSTM.ipynb",
   "provenance": []
  },
  "kernelspec": {
   "display_name": "Python 3",
   "language": "python",
   "name": "python3"
  },
  "language_info": {
   "codemirror_mode": {
    "name": "ipython",
    "version": 3
   },
   "file_extension": ".py",
   "mimetype": "text/x-python",
   "name": "python",
   "nbconvert_exporter": "python",
   "pygments_lexer": "ipython3",
   "version": "3.7.5"
  }
 },
 "nbformat": 4,
 "nbformat_minor": 1
}
