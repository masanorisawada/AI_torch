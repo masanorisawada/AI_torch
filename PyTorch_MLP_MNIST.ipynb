{
 "cells": [
  {
   "cell_type": "markdown",
   "metadata": {},
   "source": [
    "# PyTorchで画像分類\n",
    "## MLPによるMNIST（手書き文字）の分類\n",
    "## ミニバッチ学習\n",
    "## （ローカルPC上でCPU or GPU） or AWSクラウドGPU の利用"
   ]
  },
  {
   "cell_type": "code",
   "execution_count": 60,
   "metadata": {},
   "outputs": [],
   "source": [
    "import torch#tensorを作成・操作するための機能、GPUの仕様も設定\n",
    "import torch.nn as nn#nnを構成する部品を提供\n",
    "import torch.optim as optim#SGD,adamなどの最適化関数や学習率を設定\n",
    "from torchvision import datasets, transforms\n",
    "from torch.utils.data import DataLoader\n",
    "\n",
    "import numpy as np\n",
    "import matplotlib.pyplot as plt\n",
    "import seaborn as sns\n",
    "\n",
    "import time"
   ]
  },
  {
   "cell_type": "code",
   "execution_count": 61,
   "metadata": {
    "tags": []
   },
   "outputs": [
    {
     "name": "stdout",
     "output_type": "stream",
     "text": [
      "学習に使用するデバイス： cpu\n"
     ]
    }
   ],
   "source": [
    "# もしGPUが利用可能なら cuda が入る\n",
    "device = \"cuda\" if torch.cuda.is_available() else \"cpu\"\n",
    "print('学習に使用するデバイス：',device)"
   ]
  },
  {
   "cell_type": "markdown",
   "metadata": {},
   "source": [
    "# 前処理の定義 "
   ]
  },
  {
   "cell_type": "code",
   "execution_count": 62,
   "metadata": {
    "tags": []
   },
   "outputs": [],
   "source": [
    "transform = transforms.Compose([\n",
    "    transforms.ToTensor() # 画像をTensorに変換、Channel Last → Channel First、0-255の範囲 → 0.0-1.0 に変換\n",
    "])\n"
   ]
  },
  {
   "cell_type": "code",
   "execution_count": 63,
   "metadata": {},
   "outputs": [
    {
     "name": "stdout",
     "output_type": "stream",
     "text": [
      "Files already downloaded and verified\n"
     ]
    }
   ],
   "source": [
    "train_dataset = datasets.CIFAR10(\n",
    "    root=\"./data\", \n",
    "    train=True, download=True,\n",
    "    transform=transform\n",
    ")"
   ]
  },
  {
   "cell_type": "code",
   "execution_count": 64,
   "metadata": {},
   "outputs": [
    {
     "name": "stdout",
     "output_type": "stream",
     "text": [
      "Files already downloaded and verified\n"
     ]
    }
   ],
   "source": [
    "test_dataset = datasets.CIFAR10(\n",
    "    root=\"./data\", \n",
    "    train=False, download=True,\n",
    "    transform=transform\n",
    ")"
   ]
  },
  {
   "cell_type": "markdown",
   "metadata": {},
   "source": [
    "# ミニバッチのサイズを決める\n",
    "### バッチ学習：60000 枚を一度に学習する\n",
    "### ミニバッチ学習：例えば 60000 枚を 100 枚ずつに分けて学習する"
   ]
  },
  {
   "cell_type": "code",
   "execution_count": 65,
   "metadata": {},
   "outputs": [],
   "source": [
    "num_batches = 100"
   ]
  },
  {
   "cell_type": "code",
   "execution_count": 66,
   "metadata": {},
   "outputs": [
    {
     "data": {
      "text/plain": [
       "Dataset CIFAR10\n",
       "    Number of datapoints: 50000\n",
       "    Root location: ./data\n",
       "    Split: Train\n",
       "    StandardTransform\n",
       "Transform: Compose(\n",
       "               ToTensor()\n",
       "           )"
      ]
     },
     "execution_count": 66,
     "metadata": {},
     "output_type": "execute_result"
    }
   ],
   "source": [
    "# 100個ごとに画像と教師データをセットにして train_dataloaderに入れる\n",
    "train_dataloader = DataLoader(\n",
    "    train_dataset, \n",
    "    batch_size=num_batches, \n",
    "    shuffle=True\n",
    ")\n",
    "train_dataloader.dataset"
   ]
  },
  {
   "cell_type": "code",
   "execution_count": 67,
   "metadata": {},
   "outputs": [
    {
     "data": {
      "text/plain": [
       "Dataset CIFAR10\n",
       "    Number of datapoints: 10000\n",
       "    Root location: ./data\n",
       "    Split: Test\n",
       "    StandardTransform\n",
       "Transform: Compose(\n",
       "               ToTensor()\n",
       "           )"
      ]
     },
     "execution_count": 67,
     "metadata": {},
     "output_type": "execute_result"
    }
   ],
   "source": [
    "# 100個ごとに画像と教師データをセットにして train_dataloaderに入れる\n",
    "test_dataloader = DataLoader(\n",
    "    test_dataset, \n",
    "    batch_size=num_batches, \n",
    "    shuffle=True\n",
    ")\n",
    "test_dataloader.dataset"
   ]
  },
  {
   "cell_type": "code",
   "execution_count": 68,
   "metadata": {},
   "outputs": [
    {
     "data": {
      "text/plain": [
       "torch.Size([100, 3, 32, 32])"
      ]
     },
     "execution_count": 68,
     "metadata": {},
     "output_type": "execute_result"
    }
   ],
   "source": [
    "train_iter = iter(train_dataloader)\n",
    "imgs, labels = train_iter.next()\n",
    "imgs.size()"
   ]
  },
  {
   "cell_type": "code",
   "execution_count": 69,
   "metadata": {},
   "outputs": [
    {
     "data": {
      "text/plain": [
       "tensor([4, 0, 1, 9, 8, 9, 6, 5, 5, 6, 5, 4, 2, 7, 4, 2, 0, 0, 4, 2, 8, 6, 9, 3,\n",
       "        2, 6, 1, 3, 0, 3, 0, 5, 6, 0, 1, 8, 6, 2, 7, 4, 2, 1, 5, 6, 8, 6, 5, 9,\n",
       "        5, 1, 5, 2, 1, 6, 8, 1, 0, 0, 0, 5, 0, 5, 1, 9, 3, 2, 2, 3, 1, 2, 9, 3,\n",
       "        3, 2, 0, 3, 9, 2, 0, 7, 9, 3, 5, 7, 3, 0, 1, 2, 5, 5, 3, 8, 0, 8, 5, 2,\n",
       "        8, 7, 2, 8])"
      ]
     },
     "execution_count": 69,
     "metadata": {},
     "output_type": "execute_result"
    }
   ],
   "source": [
    "labels # 正解ラベルの確認"
   ]
  },
  {
   "cell_type": "code",
   "execution_count": 70,
   "metadata": {},
   "outputs": [
    {
     "data": {
      "text/plain": [
       "<AxesSubplot:>"
      ]
     },
     "execution_count": 70,
     "metadata": {},
     "output_type": "execute_result"
    },
    {
     "data": {
      "image/png": "[encoded data removed]",
      "text/plain": [
       "<Figure size 432x288 with 2 Axes>"
      ]
     },
     "metadata": {
      "needs_background": "light"
     },
     "output_type": "display_data"
    }
   ],
   "source": [
    "sns.heatmap(imgs[0].permute(1,2,0).numpy()[:,:,0])"
   ]
  },
  {
   "cell_type": "code",
   "execution_count": 71,
   "metadata": {},
   "outputs": [
    {
     "data": {
      "text/plain": [
       "tensor(4)"
      ]
     },
     "execution_count": 71,
     "metadata": {},
     "output_type": "execute_result"
    }
   ],
   "source": [
    "labels[0]"
   ]
  },
  {
   "cell_type": "markdown",
   "metadata": {},
   "source": [
    "# ネットワークモデルの定義"
   ]
  },
  {
   "cell_type": "code",
   "execution_count": 72,
   "metadata": {},
   "outputs": [],
   "source": [
    "class MLP(nn.Module):\n",
    "    def __init__(self):\n",
    "        super().__init__()\n",
    "        self.classifier = nn.Sequential(\n",
    "            nn.Linear(3*32 * 32, 1000),\n",
    "            nn.ReLU(inplace=True),\n",
    "            nn.Linear(1000, 400),\n",
    "            nn.ReLU(inplace=True),\n",
    "            nn.Linear(400, 200),\n",
    "            nn.ReLU(inplace=True),\n",
    "            nn.Linear(200, 10)\n",
    "        )\n",
    "    def forward(self, x):\n",
    "        output = self.classifier(x)\n",
    "        return output"
   ]
  },
  {
   "cell_type": "code",
   "execution_count": 73,
   "metadata": {},
   "outputs": [
    {
     "data": {
      "text/plain": [
       "MLP(\n",
       "  (classifier): Sequential(\n",
       "    (0): Linear(in_features=3072, out_features=1000, bias=True)\n",
       "    (1): ReLU(inplace=True)\n",
       "    (2): Linear(in_features=1000, out_features=400, bias=True)\n",
       "    (3): ReLU(inplace=True)\n",
       "    (4): Linear(in_features=400, out_features=200, bias=True)\n",
       "    (5): ReLU(inplace=True)\n",
       "    (6): Linear(in_features=200, out_features=10, bias=True)\n",
       "  )\n",
       ")"
      ]
     },
     "execution_count": 73,
     "metadata": {},
     "output_type": "execute_result"
    }
   ],
   "source": [
    "model = MLP()\n",
    "model.to(device)\n"
   ]
  },
  {
   "cell_type": "markdown",
   "metadata": {},
   "source": [
    "# 損失関数、最適化関数の定義"
   ]
  },
  {
   "cell_type": "code",
   "execution_count": 74,
   "metadata": {},
   "outputs": [],
   "source": [
    "criterion = nn.CrossEntropyLoss()\n",
    "optimizer = optim.Adam(model.parameters(), lr=0.001)"
   ]
  },
  {
   "cell_type": "markdown",
   "metadata": {},
   "source": [
    "# 学習"
   ]
  },
  {
   "cell_type": "code",
   "execution_count": 75,
   "metadata": {
    "tags": []
   },
   "outputs": [
    {
     "name": "stdout",
     "output_type": "stream",
     "text": [
      "epoch: 0, loss: 1.887550383090973\n",
      "epoch: 1, loss: 1.6980498988628387\n",
      "epoch: 2, loss: 1.6075320312976837\n",
      "epoch: 3, loss: 1.5393222930431365\n",
      "epoch: 4, loss: 1.4940261583328247\n",
      "epoch: 5, loss: 1.4518884568214416\n",
      "epoch: 6, loss: 1.4165439174175263\n",
      "epoch: 7, loss: 1.3796410601139069\n",
      "epoch: 8, loss: 1.3558774478435516\n",
      "epoch: 9, loss: 1.3280145392417908\n",
      "epoch: 10, loss: 1.300411966919899\n",
      "epoch: 11, loss: 1.2749222543239593\n",
      "epoch: 12, loss: 1.2532455393075943\n",
      "epoch: 13, loss: 1.2289667460918428\n",
      "epoch: 14, loss: 1.208147757411003\n",
      "epoch: 15, loss: 1.1862474528551101\n",
      "epoch: 16, loss: 1.1639900231361389\n",
      "epoch: 17, loss: 1.1419823595285417\n",
      "epoch: 18, loss: 1.1273513840436935\n",
      "epoch: 19, loss: 1.1015184218883514\n",
      "epoch: 20, loss: 1.0793258988857268\n",
      "epoch: 21, loss: 1.064489258170128\n",
      "epoch: 22, loss: 1.0456698639392852\n",
      "epoch: 23, loss: 1.0269747911691665\n",
      "epoch: 24, loss: 1.0072467880249023\n",
      "epoch: 25, loss: 0.9890513002872467\n",
      "epoch: 26, loss: 0.9700170114040375\n",
      "epoch: 27, loss: 0.9581137264966965\n",
      "epoch: 28, loss: 0.9376102595329284\n",
      "epoch: 29, loss: 0.9241499050855636\n",
      "epoch: 30, loss: 0.8932050369977951\n",
      "epoch: 31, loss: 0.8869068790674209\n",
      "epoch: 32, loss: 0.8707429934740066\n",
      "epoch: 33, loss: 0.8570219995975494\n",
      "epoch: 34, loss: 0.8337128542661667\n",
      "epoch: 35, loss: 0.8240500404834747\n",
      "epoch: 36, loss: 0.8117877442836762\n",
      "epoch: 37, loss: 0.790611398935318\n",
      "epoch: 38, loss: 0.7692749300599098\n",
      "epoch: 39, loss: 0.7682280023097992\n",
      "epoch: 40, loss: 0.7467651454210281\n",
      "epoch: 41, loss: 0.744328222990036\n",
      "epoch: 42, loss: 0.7177049923539162\n",
      "epoch: 43, loss: 0.7181776039004326\n",
      "epoch: 44, loss: 0.7169778260588646\n",
      "epoch: 45, loss: 0.6860898123383522\n",
      "epoch: 46, loss: 0.6681578422784805\n",
      "epoch: 47, loss: 0.6684562420845032\n",
      "epoch: 48, loss: 0.6625107932686806\n",
      "epoch: 49, loss: 0.6623539239168167\n",
      "CPU times: user 1h 17min 1s, sys: 1min 50s, total: 1h 18min 51s\n",
      "Wall time: 45min 56s\n"
     ]
    }
   ],
   "source": [
    "%%time\n",
    "num_epochs = 50\n",
    "losses = []\n",
    "for epoch in range(num_epochs):\n",
    "    running_loss = 0.0\n",
    "\n",
    "    for imgs, labels in train_dataloader:\n",
    "        imgs = imgs.view(num_batches, -1)\n",
    "        imgs = imgs.to(device)\n",
    "        labels = labels.to(device)\n",
    "\n",
    "        optimizer.zero_grad()\n",
    "        output = model(imgs)\n",
    "\n",
    "        loss = criterion(output, labels)\n",
    "        running_loss += loss.item()\n",
    "        pred = torch.argmax(output, dim=1)\n",
    "\n",
    "        loss.backward()\n",
    "\n",
    "        optimizer.step()\n",
    "\n",
    "    running_loss /= len(train_dataloader)\n",
    "    losses.append(running_loss)\n",
    "\n",
    "    print(\"epoch: {}, loss: {}\".format(epoch, running_loss))"
   ]
  },
  {
   "cell_type": "code",
   "execution_count": 76,
   "metadata": {},
   "outputs": [
    {
     "data": {
      "text/plain": [
       "[<matplotlib.lines.Line2D at 0x1330d2390>]"
      ]
     },
     "execution_count": 76,
     "metadata": {},
     "output_type": "execute_result"
    },
    {
     "data": {
      "image/png": "[encoded data removed]",
      "text/plain": [
       "<Figure size 432x288 with 1 Axes>"
      ]
     },
     "metadata": {
      "needs_background": "light"
     },
     "output_type": "display_data"
    }
   ],
   "source": [
    "plt.plot(losses) # 誤差が減少していることを確認"
   ]
  },
  {
   "cell_type": "markdown",
   "metadata": {},
   "source": [
    "# テスト"
   ]
  },
  {
   "cell_type": "markdown",
   "metadata": {},
   "source": [
    "# 正解ラベル"
   ]
  },
  {
   "cell_type": "code",
   "execution_count": 77,
   "metadata": {},
   "outputs": [
    {
     "data": {
      "text/plain": [
       "tensor([3, 5, 5, 2, 2, 3, 5, 8, 1, 9, 9, 4, 8, 2, 5, 1, 6, 1, 3, 6, 5, 6, 9, 0,\n",
       "        0, 7, 3, 4, 3, 4, 1, 1, 1, 8, 8, 2, 9, 1, 7, 1, 2, 0, 2, 4, 0, 5, 4, 9,\n",
       "        3, 0, 2, 4, 3, 9, 7, 6, 9, 8, 6, 1, 3, 4, 1, 3, 8, 5, 2, 4, 0, 8, 1, 5,\n",
       "        0, 8, 3, 6, 3, 5, 6, 2, 1, 6, 4, 9, 6, 1, 2, 6, 6, 8, 3, 5, 3, 6, 3, 0,\n",
       "        3, 3, 0, 7])"
      ]
     },
     "execution_count": 77,
     "metadata": {},
     "output_type": "execute_result"
    }
   ],
   "source": [
    "train_iter = iter(train_dataloader)\n",
    "imgs, labels = train_iter.next()\n",
    "labels"
   ]
  },
  {
   "cell_type": "markdown",
   "metadata": {},
   "source": [
    "# 予測結果"
   ]
  },
  {
   "cell_type": "code",
   "execution_count": 78,
   "metadata": {},
   "outputs": [
    {
     "data": {
      "text/plain": [
       "tensor([3, 3, 5, 2, 2, 3, 5, 8, 1, 9, 9, 4, 8, 6, 5, 9, 6, 1, 5, 6, 5, 6, 9, 6,\n",
       "        0, 7, 3, 4, 1, 4, 1, 1, 1, 8, 8, 8, 1, 1, 7, 9, 2, 3, 2, 4, 1, 5, 4, 9,\n",
       "        6, 0, 2, 4, 3, 9, 7, 6, 9, 8, 5, 1, 5, 4, 1, 3, 9, 5, 2, 4, 0, 9, 1, 0,\n",
       "        0, 8, 3, 2, 3, 3, 6, 1, 1, 2, 0, 9, 5, 1, 2, 6, 6, 8, 3, 4, 3, 6, 3, 4,\n",
       "        3, 3, 1, 7])"
      ]
     },
     "execution_count": 78,
     "metadata": {},
     "output_type": "execute_result"
    }
   ],
   "source": [
    "imgs_gpu = imgs.view(100, -1).to(device)\n",
    "output= model(imgs_gpu)\n",
    "pred = torch.argmax(output, dim=1)\n",
    "pred"
   ]
  },
  {
   "cell_type": "code",
   "execution_count": 79,
   "metadata": {},
   "outputs": [
    {
     "name": "stdout",
     "output_type": "stream",
     "text": [
      "正解数：　996 個\n",
      "正解率：　9.96 ％\n"
     ]
    }
   ],
   "source": [
    "test_acc = 0\n",
    "total = 0\n",
    "for images, labels in test_dataloader:\n",
    "    images, labels = images.view(num_batches, -1).to(device), labels.to(device)\n",
    "    outputs = model(images)\n",
    "    pred = torch.argmax(output, dim=1)\n",
    "    test_acc += (pred  == labels).sum().item()\n",
    "    total += labels.size(0)\n",
    "    \n",
    "    \n",
    "print('正解数：　{} 個'.format(int(test_acc)))\n",
    "print('正解率：　{} ％'.format(100*test_acc / total))"
   ]
  },
  {
   "cell_type": "markdown",
   "metadata": {},
   "source": [
    "# 上の正解ラベルと予測結果の数値がほぼ一致していることを確認"
   ]
  },
  {
   "cell_type": "code",
   "execution_count": null,
   "metadata": {},
   "outputs": [],
   "source": []
  }
 ],
 "metadata": {
  "kernelspec": {
   "display_name": "Python 3",
   "language": "python",
   "name": "python3"
  },
  "language_info": {
   "codemirror_mode": {
    "name": "ipython",
    "version": 3
   },
   "file_extension": ".py",
   "mimetype": "text/x-python",
   "name": "python",
   "nbconvert_exporter": "python",
   "pygments_lexer": "ipython3",
   "version": "3.7.5"
  }
 },
 "nbformat": 4,
 "nbformat_minor": 2
}
